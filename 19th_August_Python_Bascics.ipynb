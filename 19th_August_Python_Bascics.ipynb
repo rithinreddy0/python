{
 "cells": [
  {
   "cell_type": "markdown",
   "id": "31256ebd-d259-42e1-90b2-123e84d202ab",
   "metadata": {},
   "source": [
    "## TOPIC: Python Basics Variable"
   ]
  },
  {
   "cell_type": "markdown",
   "id": "978f9133-dd0a-4e29-8ea2-6e5948bdfc5a",
   "metadata": {},
   "source": [
    "1. Declare two variables, `x` and `y`, and assign them integer values Swap the values of these variables without using any temporary variable."
   ]
  },
  {
   "cell_type": "code",
   "execution_count": null,
   "id": "d415705f-4e40-4954-add4-9d9045d7ce16",
   "metadata": {},
   "outputs": [],
   "source": [
    "x = 2\n",
    "y = 3\n",
    "x = x + y\n",
    "y = x - y\n",
    "x = x - y\n",
    "print(x , y)"
   ]
  },
  {
   "cell_type": "markdown",
   "id": "e0786414-3e67-4341-b0ad-a1dd5cd4190a",
   "metadata": {},
   "source": [
    "2. Create a program that calculates the area of a rectangle. Take the length and width as inputs from the user and store them in variables. Calculate and display the area."
   ]
  },
  {
   "cell_type": "code",
   "execution_count": 6,
   "id": "0d7b6ae5-c377-4ac4-99b2-c69e7a937f28",
   "metadata": {},
   "outputs": [
    {
     "name": "stdin",
     "output_type": "stream",
     "text": [
      "enter the lenght of height 4\n",
      "enter the lenght of width 5\n"
     ]
    },
    {
     "name": "stdout",
     "output_type": "stream",
     "text": [
      "area of the rectangle is 20\n"
     ]
    }
   ],
   "source": [
    "height = int(input(\"enter the lenght of height\"))\n",
    "width = int(input(\"enter the lenght of width\"))\n",
    "area = height * width\n",
    "print(f\"area of the rectangle is {area}\")"
   ]
  },
  {
   "cell_type": "markdown",
   "id": "6ad9081a-662e-4ce5-8a06-123791d6b8ec",
   "metadata": {},
   "source": [
    "3. Write a Python program that converts temperature from Celsius to Fahrenheit. Take the temperature in Celsius as input, store it in a variable, convert it to Fahrenheit, and display the result."
   ]
  },
  {
   "cell_type": "code",
   "execution_count": 9,
   "id": "b54bfe0c-6774-4099-b82b-f414bbe84d6b",
   "metadata": {},
   "outputs": [
    {
     "name": "stdin",
     "output_type": "stream",
     "text": [
      "enter the temperature in celsius 4\n"
     ]
    },
    {
     "name": "stdout",
     "output_type": "stream",
     "text": [
      "temperature in fahrenheit is 39.2\n"
     ]
    }
   ],
   "source": [
    "tempCelsius = int(input(\"enter the temperature in celsius\"))\n",
    "tempFahrenheit = ( tempCelsius * 9/5 ) + 32\n",
    "print(f\"temperature in fahrenheit is {tempFahrenheit}\")"
   ]
  },
  {
   "cell_type": "markdown",
   "id": "675b62f6-96a6-4158-b9b1-29acd09963ec",
   "metadata": {},
   "source": [
    "## TOPIC: String Based Questions"
   ]
  },
  {
   "cell_type": "markdown",
   "id": "0764bcf0-ebc9-441f-a02f-f4f2b66479c4",
   "metadata": {},
   "source": [
    "1. Write a Python program that takes a string as input and prints the length of the string."
   ]
  },
  {
   "cell_type": "code",
   "execution_count": 11,
   "id": "ab379d86-7224-4e49-9adf-27bbe0d78c39",
   "metadata": {},
   "outputs": [
    {
     "name": "stdin",
     "output_type": "stream",
     "text": [
      "enter the word k\n"
     ]
    },
    {
     "name": "stdout",
     "output_type": "stream",
     "text": [
      "1\n"
     ]
    }
   ],
   "source": [
    "str = input(\"enter the word\")\n",
    "print(len(str))"
   ]
  },
  {
   "cell_type": "markdown",
   "id": "58aecc41-7036-454d-87de-43b51fc7d9ed",
   "metadata": {},
   "source": [
    "2. Create a program that takes a sentence from the user and counts the number of vowels (a, e, i, o, u) in the string."
   ]
  },
  {
   "cell_type": "code",
   "execution_count": 12,
   "id": "1031e502-6584-49fd-8400-41ee00e6237d",
   "metadata": {},
   "outputs": [
    {
     "name": "stdin",
     "output_type": "stream",
     "text": [
      "enter the word hello\n"
     ]
    },
    {
     "name": "stdout",
     "output_type": "stream",
     "text": [
      "2\n"
     ]
    }
   ],
   "source": [
    "string = input(\"enter the word\")\n",
    "vowels = \"aeiouAEIOU\"\n",
    " \n",
    "count = sum(string.count(vowel) for vowel in vowels)\n",
    "print(count)"
   ]
  },
  {
   "cell_type": "markdown",
   "id": "cf7c5a95-db64-4a51-a8a4-20912ecd2685",
   "metadata": {},
   "source": [
    "3. Given a string, reverse the order of characters using string slicing and print the reversed string."
   ]
  },
  {
   "cell_type": "code",
   "execution_count": 13,
   "id": "3ba893f5-400b-45a8-9050-edb1bacdc9bc",
   "metadata": {},
   "outputs": [
    {
     "name": "stdin",
     "output_type": "stream",
     "text": [
      "enter the word hello\n"
     ]
    },
    {
     "name": "stdout",
     "output_type": "stream",
     "text": [
      "olleh\n"
     ]
    }
   ],
   "source": [
    "str = input(\"enter the word\")\n",
    "revstr = str[::-1]\n",
    "print(revstr)"
   ]
  },
  {
   "cell_type": "markdown",
   "id": "8b8b8f51-d13e-4929-9577-9817b38bd180",
   "metadata": {},
   "source": [
    "4. Write a program that takes a string as input and checks if it is a palindrome (reads the same forwards and backwards)."
   ]
  },
  {
   "cell_type": "code",
   "execution_count": 14,
   "id": "bcec4839-0b2c-4cbe-bdff-2ee234eb87c6",
   "metadata": {},
   "outputs": [
    {
     "name": "stdin",
     "output_type": "stream",
     "text": [
      "enter the word hoh\n"
     ]
    },
    {
     "name": "stdout",
     "output_type": "stream",
     "text": [
      "its a palindrome\n"
     ]
    }
   ],
   "source": [
    "str = input(\"enter the word\")\n",
    "revstr = str[::-1]\n",
    "if(str == revstr):\n",
    "    print(\"its a palindrome\")\n",
    "else:\n",
    "    print(\"not a palindrome\")\n"
   ]
  },
  {
   "cell_type": "markdown",
   "id": "ff89e50c-7611-44cc-aad9-6d1d0eb481c4",
   "metadata": {},
   "source": [
    "5. Create a program that takes a string as input and removes all the spaces from it. Print the modified string without spaces."
   ]
  },
  {
   "cell_type": "code",
   "execution_count": 15,
   "id": "f2009d31-7c2d-4bd3-b8fc-b3a8bcbf78c0",
   "metadata": {},
   "outputs": [
    {
     "name": "stdin",
     "output_type": "stream",
     "text": [
      "Enter a string:  hello   hrlb\n"
     ]
    },
    {
     "name": "stdout",
     "output_type": "stream",
     "text": [
      "Modified string without spaces: hellohrlb\n"
     ]
    }
   ],
   "source": [
    "string = input(\"Enter a string: \")  # take input from the user\n",
    "modified_string = string.replace(\" \", \"\")  # remove all spaces from the string\n",
    "print(\"Modified string without spaces:\", modified_string)  # print the modified string\n"
   ]
  },
  {
   "cell_type": "code",
   "execution_count": null,
   "id": "8b5c5ed4-fe3c-4bb2-85c0-147403141701",
   "metadata": {},
   "outputs": [],
   "source": []
  }
 ],
 "metadata": {
  "kernelspec": {
   "display_name": "Python 3 (ipykernel)",
   "language": "python",
   "name": "python3"
  },
  "language_info": {
   "codemirror_mode": {
    "name": "ipython",
    "version": 3
   },
   "file_extension": ".py",
   "mimetype": "text/x-python",
   "name": "python",
   "nbconvert_exporter": "python",
   "pygments_lexer": "ipython3",
   "version": "3.10.8"
  }
 },
 "nbformat": 4,
 "nbformat_minor": 5
}
